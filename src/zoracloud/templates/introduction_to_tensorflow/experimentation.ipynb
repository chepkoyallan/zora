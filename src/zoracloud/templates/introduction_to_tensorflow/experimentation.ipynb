{
 "cells": [
  {
   "cell_type": "code",
   "execution_count": 6,
   "id": "90f2a60f",
   "metadata": {},
   "outputs": [],
   "source": [
    "\n",
    "%matplotlib inline"
   ]
  },
  {
   "cell_type": "code",
   "execution_count": 11,
   "id": "48b438e4",
   "metadata": {},
   "outputs": [],
   "source": [
    "from pprint import pprint as pp\n",
    "import matplotlib as mpl\n",
    "import numpy as np\n",
    "import os\n",
    "import pandas as pd\n",
    "# import sklearn\n",
    "import sys\n",
    "import tensorflow as tf\n",
    "from tensorflow import keras\n",
    "import time"
   ]
  },
  {
   "cell_type": "code",
   "execution_count": 12,
   "id": "850a8239",
   "metadata": {},
   "outputs": [
    {
     "name": "stdout",
     "output_type": "stream",
     "text": [
      "{'module': 'matplotlib', 'version': '3.5.1'}\n",
      "{'module': 'numpy', 'version': '1.19.5'}\n",
      "{'module': 'pandas', 'version': '1.4.0'}\n",
      "{'module': 'tensorflow', 'version': '2.7.0'}\n",
      "{'module': 'keras.api._v2.keras', 'version': '2.7.0'}\n"
     ]
    }
   ],
   "source": [
    "for module in mpl, np, pd, tf, keras:\n",
    "    pp({\n",
    "        \"module\": module.__name__,\n",
    "        \"version\": module.__version__\n",
    "    })"
   ]
  },
  {
   "cell_type": "code",
   "execution_count": 13,
   "id": "a4af1dcf",
   "metadata": {},
   "outputs": [],
   "source": [
    "assert sys.version_info >= (3, 5) # Python ≥3.5 required\n",
    "assert tf.__version__ >= \"2.0\"    # TensorFlow ≥2.0 required"
   ]
  },
  {
   "cell_type": "markdown",
   "id": "92c89adc",
   "metadata": {},
   "source": [
    "## Tensors and operations"
   ]
  },
  {
   "cell_type": "markdown",
   "id": "c36f4744",
   "metadata": {},
   "source": [
    "### tf.constant "
   ]
  },
  {
   "cell_type": "code",
   "execution_count": 15,
   "id": "fac762e5",
   "metadata": {},
   "outputs": [
    {
     "data": {
      "text/plain": [
       "<function tensorflow.python.framework.constant_op.constant(value, dtype=None, shape=None, name='Const')>"
      ]
     },
     "execution_count": 15,
     "metadata": {},
     "output_type": "execute_result"
    }
   ],
   "source": [
    "tf.constant"
   ]
  },
  {
   "cell_type": "code",
   "execution_count": 16,
   "id": "65b7a504",
   "metadata": {},
   "outputs": [
    {
     "data": {
      "text/plain": [
       "['__annotations__',\n",
       " '__call__',\n",
       " '__class__',\n",
       " '__closure__',\n",
       " '__code__',\n",
       " '__defaults__',\n",
       " '__delattr__',\n",
       " '__dict__',\n",
       " '__dir__',\n",
       " '__doc__',\n",
       " '__eq__',\n",
       " '__format__',\n",
       " '__ge__',\n",
       " '__get__',\n",
       " '__getattribute__',\n",
       " '__globals__',\n",
       " '__gt__',\n",
       " '__hash__',\n",
       " '__init__',\n",
       " '__init_subclass__',\n",
       " '__kwdefaults__',\n",
       " '__le__',\n",
       " '__lt__',\n",
       " '__module__',\n",
       " '__name__',\n",
       " '__ne__',\n",
       " '__new__',\n",
       " '__qualname__',\n",
       " '__reduce__',\n",
       " '__reduce_ex__',\n",
       " '__repr__',\n",
       " '__setattr__',\n",
       " '__sizeof__',\n",
       " '__str__',\n",
       " '__subclasshook__',\n",
       " '_tf_api_names',\n",
       " '_tf_api_names_v1']"
      ]
     },
     "execution_count": 16,
     "metadata": {},
     "output_type": "execute_result"
    }
   ],
   "source": [
    "dir(tf.constant)"
   ]
  },
  {
   "cell_type": "code",
   "execution_count": 17,
   "id": "2f33fec7",
   "metadata": {},
   "outputs": [
    {
     "name": "stdout",
     "output_type": "stream",
     "text": [
      "Help on function constant in module tensorflow.python.framework.constant_op:\n",
      "\n",
      "constant(value, dtype=None, shape=None, name='Const')\n",
      "    Creates a constant tensor from a tensor-like object.\n",
      "    \n",
      "    Note: All eager `tf.Tensor` values are immutable (in contrast to\n",
      "    `tf.Variable`). There is nothing especially _constant_ about the value\n",
      "    returned from `tf.constant`. This function is not fundamentally different from\n",
      "    `tf.convert_to_tensor`. The name `tf.constant` comes from the `value` being\n",
      "    embedded in a `Const` node in the `tf.Graph`. `tf.constant` is useful\n",
      "    for asserting that the value can be embedded that way.\n",
      "    \n",
      "    If the argument `dtype` is not specified, then the type is inferred from\n",
      "    the type of `value`.\n",
      "    \n",
      "    >>> # Constant 1-D Tensor from a python list.\n",
      "    >>> tf.constant([1, 2, 3, 4, 5, 6])\n",
      "    <tf.Tensor: shape=(6,), dtype=int32,\n",
      "        numpy=array([1, 2, 3, 4, 5, 6], dtype=int32)>\n",
      "    >>> # Or a numpy array\n",
      "    >>> a = np.array([[1, 2, 3], [4, 5, 6]])\n",
      "    >>> tf.constant(a)\n",
      "    <tf.Tensor: shape=(2, 3), dtype=int64, numpy=\n",
      "      array([[1, 2, 3],\n",
      "             [4, 5, 6]])>\n",
      "    \n",
      "    If `dtype` is specified, the resulting tensor values are cast to the requested\n",
      "    `dtype`.\n",
      "    \n",
      "    >>> tf.constant([1, 2, 3, 4, 5, 6], dtype=tf.float64)\n",
      "    <tf.Tensor: shape=(6,), dtype=float64,\n",
      "        numpy=array([1., 2., 3., 4., 5., 6.])>\n",
      "    \n",
      "    If `shape` is set, the `value` is reshaped to match. Scalars are expanded to\n",
      "    fill the `shape`:\n",
      "    \n",
      "    >>> tf.constant(0, shape=(2, 3))\n",
      "      <tf.Tensor: shape=(2, 3), dtype=int32, numpy=\n",
      "      array([[0, 0, 0],\n",
      "             [0, 0, 0]], dtype=int32)>\n",
      "    >>> tf.constant([1, 2, 3, 4, 5, 6], shape=[2, 3])\n",
      "    <tf.Tensor: shape=(2, 3), dtype=int32, numpy=\n",
      "      array([[1, 2, 3],\n",
      "             [4, 5, 6]], dtype=int32)>\n",
      "    \n",
      "    `tf.constant` has no effect if an eager Tensor is passed as the `value`, it\n",
      "    even transmits gradients:\n",
      "    \n",
      "    >>> v = tf.Variable([0.0])\n",
      "    >>> with tf.GradientTape() as g:\n",
      "    ...     loss = tf.constant(v + v)\n",
      "    >>> g.gradient(loss, v).numpy()\n",
      "    array([2.], dtype=float32)\n",
      "    \n",
      "    But, since `tf.constant` embeds the value in the `tf.Graph` this fails for\n",
      "    symbolic tensors:\n",
      "    \n",
      "    >>> with tf.compat.v1.Graph().as_default():\n",
      "    ...   i = tf.compat.v1.placeholder(shape=[None, None], dtype=tf.float32)\n",
      "    ...   t = tf.constant(i)\n",
      "    Traceback (most recent call last):\n",
      "    ...\n",
      "    TypeError: ...\n",
      "    \n",
      "    `tf.constant` will create tensors on the current device. Inputs which are\n",
      "    already tensors maintain their placements unchanged.\n",
      "    \n",
      "    Related Ops:\n",
      "    \n",
      "    * `tf.convert_to_tensor` is similar but:\n",
      "      * It has no `shape` argument.\n",
      "      * Symbolic tensors are allowed to pass through.\n",
      "    \n",
      "      >>> with tf.compat.v1.Graph().as_default():\n",
      "      ...   i = tf.compat.v1.placeholder(shape=[None, None], dtype=tf.float32)\n",
      "      ...   t = tf.convert_to_tensor(i)\n",
      "    \n",
      "    * `tf.fill`: differs in a few ways:\n",
      "      *   `tf.constant` supports arbitrary constants, not just uniform scalar\n",
      "          Tensors like `tf.fill`.\n",
      "      *   `tf.fill` creates an Op in the graph that is expanded at runtime, so it\n",
      "          can efficiently represent large tensors.\n",
      "      *   Since `tf.fill` does not embed the value, it can produce dynamically\n",
      "          sized outputs.\n",
      "    \n",
      "    Args:\n",
      "      value: A constant value (or list) of output type `dtype`.\n",
      "      dtype: The type of the elements of the resulting tensor.\n",
      "      shape: Optional dimensions of resulting tensor.\n",
      "      name: Optional name for the tensor.\n",
      "    \n",
      "    Returns:\n",
      "      A Constant Tensor.\n",
      "    \n",
      "    Raises:\n",
      "      TypeError: if shape is incorrectly specified or unsupported.\n",
      "      ValueError: if called on a symbolic tensor.\n",
      "\n"
     ]
    }
   ],
   "source": [
    "help(tf.constant)"
   ]
  },
  {
   "cell_type": "markdown",
   "id": "4bbcab2f",
   "metadata": {},
   "source": [
    "#### Constant OPS\n",
    "\n",
    "`tensorflow.python.framework.constant_op`"
   ]
  },
  {
   "cell_type": "code",
   "execution_count": 18,
   "id": "ae3ea0e4",
   "metadata": {},
   "outputs": [],
   "source": [
    "from tensorflow.python.framework import constant_op"
   ]
  },
  {
   "cell_type": "code",
   "execution_count": 19,
   "id": "24f003a3",
   "metadata": {},
   "outputs": [
    {
     "data": {
      "text/plain": [
       "<module 'tensorflow.python.framework.constant_op' from '/Users/allan.chepkoy/.local/share/virtualenvs/zora-rZyFQzhX/lib/python3.8/site-packages/tensorflow-2.7.0-py3.8-macosx-11-x86_64.egg/tensorflow/python/framework/constant_op.py'>"
      ]
     },
     "execution_count": 19,
     "metadata": {},
     "output_type": "execute_result"
    }
   ],
   "source": [
    "constant_op"
   ]
  },
  {
   "cell_type": "code",
   "execution_count": 21,
   "id": "6042eb44",
   "metadata": {},
   "outputs": [
    {
     "data": {
      "text/plain": [
       "['__builtins__',\n",
       " '__cached__',\n",
       " '__doc__',\n",
       " '__file__',\n",
       " '__loader__',\n",
       " '__name__',\n",
       " '__package__',\n",
       " '__spec__',\n",
       " '_constant_eager_impl',\n",
       " '_constant_impl',\n",
       " '_constant_tensor_conversion_function',\n",
       " '_dimension_tensor_conversion_function',\n",
       " '_eager_const',\n",
       " '_eager_fill',\n",
       " '_eager_identity',\n",
       " '_eager_reshape',\n",
       " '_tensor_shape_tensor_conversion_function',\n",
       " 'absolute_import',\n",
       " 'attr_value_pb2',\n",
       " 'constant',\n",
       " 'constant_v1',\n",
       " 'context',\n",
       " 'convert_to_eager_tensor',\n",
       " 'division',\n",
       " 'dtypes',\n",
       " 'execute',\n",
       " 'is_constant',\n",
       " 'op_callbacks',\n",
       " 'ops',\n",
       " 'print_function',\n",
       " 'tensor_shape',\n",
       " 'tensor_util',\n",
       " 'tf_export',\n",
       " 'trace',\n",
       " 'types_pb2']"
      ]
     },
     "execution_count": 21,
     "metadata": {},
     "output_type": "execute_result"
    }
   ],
   "source": [
    "dir(constant_op)"
   ]
  },
  {
   "cell_type": "code",
   "execution_count": 24,
   "id": "4be0f318",
   "metadata": {},
   "outputs": [
    {
     "data": {
      "text/plain": [
       "<tf.Tensor: shape=(), dtype=int32, numpy=3>"
      ]
     },
     "execution_count": 24,
     "metadata": {},
     "output_type": "execute_result"
    }
   ],
   "source": [
    "value = 3\n",
    "\n",
    "tf.constant(value, dtype=None, shape=None, name='Const')"
   ]
  },
  {
   "cell_type": "code",
   "execution_count": 139,
   "id": "ab6e2da2",
   "metadata": {},
   "outputs": [],
   "source": [
    "def gen_const(values, eager_mode = False):  \n",
    "    if eager_mode == False:\n",
    "        name = None\n",
    "        \n",
    "    else: \n",
    "        name = name\n",
    "        \n",
    "    value, name = values\n",
    "    print(name)\n",
    "    constant = tf.constant(value, dtype=None, shape=None)\n",
    "    pp( {\n",
    "        \"dtype\": constant.dtype,\n",
    "        \"shape\": constant.shape,\n",
    "#         \"name\": constant.name\n",
    "        \"backing_device\": constant.backing_device,\n",
    "        \"consumers\": constant.consumers,\n",
    "        \"cpu\": constant.cpu,\n",
    "        \"device\": constant.device,\n",
    "        \"eval\": constant.eval,\n",
    "        \"experimental_ref\": constant.experimental_ref(),\n",
    "        \"get_shape\": constant.get_shape,\n",
    "        \"gpu\": constant.gpu,\n",
    "#         \"dir\" : dir(constant),\n",
    "#         'graph':constant.graph,\n",
    "         'is_packed':constant.is_packed,\n",
    "#          'name'constant.,\n",
    "         'ndim':constant.ndim,\n",
    "         'numpy':constant.numpy,\n",
    "#          'op':constant.op,\n",
    "         'ref':constant.ref,\n",
    "         'set_shape':constant.set_shape,\n",
    "         'shape':constant.shape,\n",
    "#          'value_index':constant.value_index\n",
    "    }\n",
    "    )"
   ]
  },
  {
   "cell_type": "code",
   "execution_count": 140,
   "id": "dbd5bf95",
   "metadata": {},
   "outputs": [
    {
     "name": "stdout",
     "output_type": "stream",
     "text": [
      "scalar\n",
      "{'backing_device': '/job:localhost/replica:0/task:0/device:CPU:0',\n",
      " 'consumers': <bound method _EagerTensorBase.consumers of <tf.Tensor: shape=(), dtype=int32, numpy=0>>,\n",
      " 'cpu': <bound method _EagerTensorBase.cpu of <tf.Tensor: shape=(), dtype=int32, numpy=0>>,\n",
      " 'device': '/job:localhost/replica:0/task:0/device:CPU:0',\n",
      " 'dtype': tf.int32,\n",
      " 'eval': <bound method _EagerTensorBase.eval of <tf.Tensor: shape=(), dtype=int32, numpy=0>>,\n",
      " 'experimental_ref': <Reference wrapping <tf.Tensor: shape=(), dtype=int32, numpy=0>>,\n",
      " 'get_shape': <bound method _EagerTensorBase.get_shape of <tf.Tensor: shape=(), dtype=int32, numpy=0>>,\n",
      " 'gpu': <bound method _EagerTensorBase.gpu of <tf.Tensor: shape=(), dtype=int32, numpy=0>>,\n",
      " 'is_packed': False,\n",
      " 'ndim': 0,\n",
      " 'numpy': <bound method _EagerTensorBase.numpy of <tf.Tensor: shape=(), dtype=int32, numpy=0>>,\n",
      " 'ref': <bound method Tensor.ref of <tf.Tensor: shape=(), dtype=int32, numpy=0>>,\n",
      " 'set_shape': <bound method _EagerTensorBase.set_shape of <tf.Tensor: shape=(), dtype=int32, numpy=0>>,\n",
      " 'shape': TensorShape([])}\n"
     ]
    }
   ],
   "source": [
    "gen_const((0, \"scalar\"), False)"
   ]
  },
  {
   "cell_type": "code",
   "execution_count": 58,
   "id": "4ff21fc8",
   "metadata": {},
   "outputs": [
    {
     "name": "stdout",
     "output_type": "stream",
     "text": [
      "vector\n",
      "{'dtype': tf.int32, 'shape': TensorShape([5])}\n"
     ]
    }
   ],
   "source": [
    "gen_const(([3, 4, 8, 9, 9], \"vector\"))"
   ]
  },
  {
   "cell_type": "code",
   "execution_count": 60,
   "id": "f4a7e37f",
   "metadata": {},
   "outputs": [
    {
     "name": "stdout",
     "output_type": "stream",
     "text": [
      "Matrix\n",
      "{'dtype': tf.int32, 'shape': TensorShape([2, 3])}\n"
     ]
    }
   ],
   "source": [
    "gen_const(([[1, 2, 3], [1, 2, 3]], \"Matrix\"))"
   ]
  },
  {
   "cell_type": "code",
   "execution_count": 63,
   "id": "c3927508",
   "metadata": {},
   "outputs": [],
   "source": [
    "matrix = {\n",
    "    \"row_one\": [1, 2, 3],\n",
    "    \"row_two\": [4, 5, 6]\n",
    "}"
   ]
  },
  {
   "cell_type": "code",
   "execution_count": 71,
   "id": "5dc7e133",
   "metadata": {},
   "outputs": [],
   "source": [
    "row_one = list()\n",
    "\n",
    "for i in range(10):\n",
    "    row_one.append(i)"
   ]
  },
  {
   "cell_type": "code",
   "execution_count": 72,
   "id": "a8544c4b",
   "metadata": {},
   "outputs": [
    {
     "data": {
      "text/plain": [
       "[0, 1, 2, 3, 4, 5, 6, 7, 8, 9]"
      ]
     },
     "execution_count": 72,
     "metadata": {},
     "output_type": "execute_result"
    }
   ],
   "source": [
    "row_one"
   ]
  },
  {
   "cell_type": "code",
   "execution_count": 77,
   "id": "a2ca9f2e",
   "metadata": {},
   "outputs": [],
   "source": [
    "matrix_one = [[1, 2, 3],[4, 5, 6]]\n",
    "matrix_two = [[1, 2, 3], [4, 5, 6]]\n"
   ]
  },
  {
   "cell_type": "code",
   "execution_count": 79,
   "id": "df3b5afe",
   "metadata": {},
   "outputs": [],
   "source": [
    "three_d = [matrix_one, matrix_two]"
   ]
  },
  {
   "cell_type": "code",
   "execution_count": 80,
   "id": "ead4a059",
   "metadata": {},
   "outputs": [
    {
     "data": {
      "text/plain": [
       "[[[1, 2, 3], [4, 5, 6]], [[1, 2, 3], [4, 5, 6]]]"
      ]
     },
     "execution_count": 80,
     "metadata": {},
     "output_type": "execute_result"
    }
   ],
   "source": [
    "three_d"
   ]
  },
  {
   "cell_type": "code",
   "execution_count": 141,
   "id": "fb84d967",
   "metadata": {},
   "outputs": [
    {
     "name": "stdout",
     "output_type": "stream",
     "text": [
      "3D\n",
      "{'backing_device': '/job:localhost/replica:0/task:0/device:CPU:0',\n",
      " 'consumers': <bound method _EagerTensorBase.consumers of <tf.Tensor: shape=(2, 2, 3), dtype=int32, numpy=\n",
      "array([[[1, 2, 3],\n",
      "        [4, 5, 6]],\n",
      "\n",
      "       [[1, 2, 3],\n",
      "        [4, 5, 6]]], dtype=int32)>>,\n",
      " 'cpu': <bound method _EagerTensorBase.cpu of <tf.Tensor: shape=(2, 2, 3), dtype=int32, numpy=\n",
      "array([[[1, 2, 3],\n",
      "        [4, 5, 6]],\n",
      "\n",
      "       [[1, 2, 3],\n",
      "        [4, 5, 6]]], dtype=int32)>>,\n",
      " 'device': '/job:localhost/replica:0/task:0/device:CPU:0',\n",
      " 'dtype': tf.int32,\n",
      " 'eval': <bound method _EagerTensorBase.eval of <tf.Tensor: shape=(2, 2, 3), dtype=int32, numpy=\n",
      "array([[[1, 2, 3],\n",
      "        [4, 5, 6]],\n",
      "\n",
      "       [[1, 2, 3],\n",
      "        [4, 5, 6]]], dtype=int32)>>,\n",
      " 'experimental_ref': <Reference wrapping <tf.Tensor: shape=(2, 2, 3), dtype=int32, numpy=\n",
      "array([[[1, 2, 3],\n",
      "        [4, 5, 6]],\n",
      "\n",
      "       [[1, 2, 3],\n",
      "        [4, 5, 6]]], dtype=int32)>>,\n",
      " 'get_shape': <bound method _EagerTensorBase.get_shape of <tf.Tensor: shape=(2, 2, 3), dtype=int32, numpy=\n",
      "array([[[1, 2, 3],\n",
      "        [4, 5, 6]],\n",
      "\n",
      "       [[1, 2, 3],\n",
      "        [4, 5, 6]]], dtype=int32)>>,\n",
      " 'gpu': <bound method _EagerTensorBase.gpu of <tf.Tensor: shape=(2, 2, 3), dtype=int32, numpy=\n",
      "array([[[1, 2, 3],\n",
      "        [4, 5, 6]],\n",
      "\n",
      "       [[1, 2, 3],\n",
      "        [4, 5, 6]]], dtype=int32)>>,\n",
      " 'is_packed': False,\n",
      " 'ndim': 3,\n",
      " 'numpy': <bound method _EagerTensorBase.numpy of <tf.Tensor: shape=(2, 2, 3), dtype=int32, numpy=\n",
      "array([[[1, 2, 3],\n",
      "        [4, 5, 6]],\n",
      "\n",
      "       [[1, 2, 3],\n",
      "        [4, 5, 6]]], dtype=int32)>>,\n",
      " 'ref': <bound method Tensor.ref of <tf.Tensor: shape=(2, 2, 3), dtype=int32, numpy=\n",
      "array([[[1, 2, 3],\n",
      "        [4, 5, 6]],\n",
      "\n",
      "       [[1, 2, 3],\n",
      "        [4, 5, 6]]], dtype=int32)>>,\n",
      " 'set_shape': <bound method _EagerTensorBase.set_shape of <tf.Tensor: shape=(2, 2, 3), dtype=int32, numpy=\n",
      "array([[[1, 2, 3],\n",
      "        [4, 5, 6]],\n",
      "\n",
      "       [[1, 2, 3],\n",
      "        [4, 5, 6]]], dtype=int32)>>,\n",
      " 'shape': TensorShape([2, 2, 3])}\n"
     ]
    }
   ],
   "source": [
    "gen_const((three_d, \"3D\"))"
   ]
  },
  {
   "cell_type": "code",
   "execution_count": null,
   "id": "736b9401",
   "metadata": {},
   "outputs": [],
   "source": [
    "## "
   ]
  },
  {
   "cell_type": "code",
   "execution_count": 142,
   "id": "f718933a",
   "metadata": {},
   "outputs": [],
   "source": [
    "x1 = tf.constant([1, 2, 3])\n",
    "x2 = tf.stack([x1, x1])"
   ]
  },
  {
   "cell_type": "code",
   "execution_count": null,
   "id": "6dd23d21",
   "metadata": {},
   "outputs": [],
   "source": []
  },
  {
   "cell_type": "code",
   "execution_count": 143,
   "id": "2d8740f8",
   "metadata": {},
   "outputs": [
    {
     "data": {
      "text/plain": [
       "<tf.Tensor: shape=(2, 3), dtype=int32, numpy=\n",
       "array([[1, 2, 3],\n",
       "       [1, 2, 3]], dtype=int32)>"
      ]
     },
     "execution_count": 143,
     "metadata": {},
     "output_type": "execute_result"
    }
   ],
   "source": [
    "x2"
   ]
  },
  {
   "cell_type": "code",
   "execution_count": 147,
   "id": "6dc80227",
   "metadata": {},
   "outputs": [
    {
     "data": {
      "text/plain": [
       "<tf.Tensor: shape=(2, 2, 3), dtype=int32, numpy=\n",
       "array([[[1, 2, 3],\n",
       "        [1, 2, 3]],\n",
       "\n",
       "       [[1, 2, 3],\n",
       "        [1, 2, 3]]], dtype=int32)>"
      ]
     },
     "execution_count": 147,
     "metadata": {},
     "output_type": "execute_result"
    }
   ],
   "source": [
    "x3 = tf.stack([x2, x2])\n",
    "x3"
   ]
  },
  {
   "cell_type": "code",
   "execution_count": 149,
   "id": "952ec378",
   "metadata": {},
   "outputs": [
    {
     "data": {
      "text/plain": [
       "<tf.Tensor: shape=(2, 2, 2, 3), dtype=int32, numpy=\n",
       "array([[[[1, 2, 3],\n",
       "         [1, 2, 3]],\n",
       "\n",
       "        [[1, 2, 3],\n",
       "         [1, 2, 3]]],\n",
       "\n",
       "\n",
       "       [[[1, 2, 3],\n",
       "         [1, 2, 3]],\n",
       "\n",
       "        [[1, 2, 3],\n",
       "         [1, 2, 3]]]], dtype=int32)>"
      ]
     },
     "execution_count": 149,
     "metadata": {},
     "output_type": "execute_result"
    }
   ],
   "source": [
    "x4 = tf.stack([x3, x3])\n",
    "x4"
   ]
  },
  {
   "cell_type": "markdown",
   "id": "ca2b7df3",
   "metadata": {},
   "source": [
    "### Slicing"
   ]
  },
  {
   "cell_type": "code",
   "execution_count": 160,
   "id": "a6b0aca6",
   "metadata": {},
   "outputs": [],
   "source": [
    "x = tf.constant([\n",
    "    [1, 2, 3],\n",
    "    [4, 5, 6]\n",
    "])"
   ]
  },
  {
   "cell_type": "code",
   "execution_count": 165,
   "id": "d4593b6e",
   "metadata": {},
   "outputs": [],
   "source": [
    "y = x[:, 1]"
   ]
  },
  {
   "cell_type": "code",
   "execution_count": 166,
   "id": "c3892c84",
   "metadata": {},
   "outputs": [
    {
     "data": {
      "text/plain": [
       "<tf.Tensor: shape=(2,), dtype=int32, numpy=array([3, 6], dtype=int32)>"
      ]
     },
     "execution_count": 166,
     "metadata": {},
     "output_type": "execute_result"
    }
   ],
   "source": [
    "x[:, -1]"
   ]
  },
  {
   "cell_type": "code",
   "execution_count": 167,
   "id": "2f7342ab",
   "metadata": {},
   "outputs": [
    {
     "data": {
      "text/plain": [
       "<tf.Tensor: shape=(2, 3), dtype=int32, numpy=\n",
       "array([[1, 2, 3],\n",
       "       [4, 5, 6]], dtype=int32)>"
      ]
     },
     "execution_count": 167,
     "metadata": {},
     "output_type": "execute_result"
    }
   ],
   "source": [
    "x[:]"
   ]
  },
  {
   "cell_type": "code",
   "execution_count": 169,
   "id": "2db41f58",
   "metadata": {},
   "outputs": [
    {
     "data": {
      "text/plain": [
       "<tf.Tensor: shape=(3,), dtype=int32, numpy=array([1, 2, 3], dtype=int32)>"
      ]
     },
     "execution_count": 169,
     "metadata": {},
     "output_type": "execute_result"
    }
   ],
   "source": [
    "x[0]"
   ]
  },
  {
   "cell_type": "code",
   "execution_count": 170,
   "id": "c8804cdb",
   "metadata": {},
   "outputs": [
    {
     "data": {
      "text/plain": [
       "<tf.Tensor: shape=(3,), dtype=int32, numpy=array([4, 5, 6], dtype=int32)>"
      ]
     },
     "execution_count": 170,
     "metadata": {},
     "output_type": "execute_result"
    }
   ],
   "source": [
    "x[1]"
   ]
  },
  {
   "cell_type": "code",
   "execution_count": 171,
   "id": "c3c8cbcd",
   "metadata": {},
   "outputs": [
    {
     "data": {
      "text/plain": [
       "<tf.Tensor: shape=(2,), dtype=int32, numpy=array([1, 4], dtype=int32)>"
      ]
     },
     "execution_count": 171,
     "metadata": {},
     "output_type": "execute_result"
    }
   ],
   "source": [
    "x[:, 0]"
   ]
  },
  {
   "cell_type": "code",
   "execution_count": 172,
   "id": "c79615b2",
   "metadata": {},
   "outputs": [
    {
     "data": {
      "text/plain": [
       "<tf.Tensor: shape=(2,), dtype=int32, numpy=array([2, 5], dtype=int32)>"
      ]
     },
     "execution_count": 172,
     "metadata": {},
     "output_type": "execute_result"
    }
   ],
   "source": [
    "x[:, 1]"
   ]
  },
  {
   "cell_type": "code",
   "execution_count": 173,
   "id": "df902933",
   "metadata": {},
   "outputs": [
    {
     "data": {
      "text/plain": [
       "<tf.Tensor: shape=(2,), dtype=int32, numpy=array([3, 6], dtype=int32)>"
      ]
     },
     "execution_count": 173,
     "metadata": {},
     "output_type": "execute_result"
    }
   ],
   "source": [
    "x[:, 2]"
   ]
  },
  {
   "cell_type": "markdown",
   "id": "2a5c14f4",
   "metadata": {},
   "source": [
    "### Reshaping"
   ]
  },
  {
   "cell_type": "code",
   "execution_count": 174,
   "id": "ea7bb2ec",
   "metadata": {},
   "outputs": [],
   "source": [
    "reshaping = tf.constant([\n",
    "    [1, 2, 3],\n",
    "    [4, 5, 6]\n",
    "])"
   ]
  },
  {
   "cell_type": "code",
   "execution_count": 177,
   "id": "79323c82",
   "metadata": {},
   "outputs": [
    {
     "data": {
      "text/plain": [
       "<tf.Tensor: shape=(3, 2), dtype=int32, numpy=\n",
       "array([[1, 2],\n",
       "       [3, 4],\n",
       "       [5, 6]], dtype=int32)>"
      ]
     },
     "execution_count": 177,
     "metadata": {},
     "output_type": "execute_result"
    }
   ],
   "source": [
    "reshapingx = tf.reshape(reshaping, [3, 2])\n",
    "reshapingx"
   ]
  },
  {
   "cell_type": "code",
   "execution_count": 181,
   "id": "fa68bda4",
   "metadata": {},
   "outputs": [
    {
     "data": {
      "text/plain": [
       "<tf.Tensor: shape=(3, 2), dtype=int32, numpy=\n",
       "array([[1, 2],\n",
       "       [3, 4],\n",
       "       [5, 6]], dtype=int32)>"
      ]
     },
     "execution_count": 181,
     "metadata": {},
     "output_type": "execute_result"
    }
   ],
   "source": [
    "reshapingy = tf.reshape(reshaping, [3, 2])\n",
    "reshapingy"
   ]
  },
  {
   "cell_type": "markdown",
   "id": "9bed16ff",
   "metadata": {},
   "source": [
    "### Variable"
   ]
  },
  {
   "cell_type": "code",
   "execution_count": 182,
   "id": "dd747864",
   "metadata": {},
   "outputs": [
    {
     "data": {
      "text/plain": [
       "<tf.Variable 'my_var:0' shape=() dtype=float32, numpy=2.0>"
      ]
     },
     "execution_count": 182,
     "metadata": {},
     "output_type": "execute_result"
    }
   ],
   "source": [
    "v = tf.Variable(2.0, dtype=tf.float32, name = \"my_var\")\n",
    "v"
   ]
  },
  {
   "cell_type": "code",
   "execution_count": 183,
   "id": "8987b068",
   "metadata": {},
   "outputs": [
    {
     "data": {
      "text/plain": [
       "<tf.Variable 'UnreadVariable' shape=() dtype=float32, numpy=45.8>"
      ]
     },
     "execution_count": 183,
     "metadata": {},
     "output_type": "execute_result"
    }
   ],
   "source": [
    "v.assign(45.8)"
   ]
  },
  {
   "cell_type": "code",
   "execution_count": 184,
   "id": "8fec9bc9",
   "metadata": {},
   "outputs": [
    {
     "data": {
      "text/plain": [
       "<tf.Variable 'UnreadVariable' shape=() dtype=float32, numpy=49.8>"
      ]
     },
     "execution_count": 184,
     "metadata": {},
     "output_type": "execute_result"
    }
   ],
   "source": [
    "v.assign_add(4)"
   ]
  },
  {
   "cell_type": "code",
   "execution_count": 185,
   "id": "c2b7b70d",
   "metadata": {},
   "outputs": [
    {
     "data": {
      "text/plain": [
       "<tf.Variable 'UnreadVariable' shape=() dtype=float32, numpy=46.8>"
      ]
     },
     "execution_count": 185,
     "metadata": {},
     "output_type": "execute_result"
    }
   ],
   "source": [
    "v.assign_sub(3)"
   ]
  },
  {
   "cell_type": "code",
   "execution_count": 186,
   "id": "7327964a",
   "metadata": {},
   "outputs": [
    {
     "data": {
      "text/plain": [
       "['SaveSliceInfo',\n",
       " '_OverloadAllOperators',\n",
       " '_OverloadOperator',\n",
       " '_TensorConversionFunction',\n",
       " '__abs__',\n",
       " '__add__',\n",
       " '__and__',\n",
       " '__array__',\n",
       " '__array_priority__',\n",
       " '__bool__',\n",
       " '__class__',\n",
       " '__complex__',\n",
       " '__copy__',\n",
       " '__deepcopy__',\n",
       " '__delattr__',\n",
       " '__dict__',\n",
       " '__dir__',\n",
       " '__div__',\n",
       " '__doc__',\n",
       " '__eq__',\n",
       " '__float__',\n",
       " '__floordiv__',\n",
       " '__format__',\n",
       " '__ge__',\n",
       " '__getattribute__',\n",
       " '__getitem__',\n",
       " '__gt__',\n",
       " '__hash__',\n",
       " '__iadd__',\n",
       " '__idiv__',\n",
       " '__imul__',\n",
       " '__init__',\n",
       " '__init_subclass__',\n",
       " '__int__',\n",
       " '__invert__',\n",
       " '__ipow__',\n",
       " '__irealdiv__',\n",
       " '__isub__',\n",
       " '__iter__',\n",
       " '__itruediv__',\n",
       " '__le__',\n",
       " '__long__',\n",
       " '__lt__',\n",
       " '__matmul__',\n",
       " '__mod__',\n",
       " '__module__',\n",
       " '__mul__',\n",
       " '__ne__',\n",
       " '__neg__',\n",
       " '__new__',\n",
       " '__nonzero__',\n",
       " '__or__',\n",
       " '__pow__',\n",
       " '__radd__',\n",
       " '__rand__',\n",
       " '__rdiv__',\n",
       " '__reduce__',\n",
       " '__reduce_ex__',\n",
       " '__repr__',\n",
       " '__rfloordiv__',\n",
       " '__rmatmul__',\n",
       " '__rmod__',\n",
       " '__rmul__',\n",
       " '__ror__',\n",
       " '__rpow__',\n",
       " '__rsub__',\n",
       " '__rtruediv__',\n",
       " '__rxor__',\n",
       " '__setattr__',\n",
       " '__sizeof__',\n",
       " '__str__',\n",
       " '__sub__',\n",
       " '__subclasshook__',\n",
       " '__tf_function_cache_spec__',\n",
       " '__tf_resource_id__',\n",
       " '__truediv__',\n",
       " '__weakref__',\n",
       " '__xor__',\n",
       " '_add_trackable_child',\n",
       " '_add_variable_with_custom_getter',\n",
       " '_aggregation',\n",
       " '_as_graph_element',\n",
       " '_assign_dependencies',\n",
       " '_cached_shape_as_list',\n",
       " '_cached_value',\n",
       " '_caching_device',\n",
       " '_checkpoint_dependencies',\n",
       " '_constraint',\n",
       " '_deferred_dependencies',\n",
       " '_dense_var_to_tensor',\n",
       " '_deserialize_from_proto',\n",
       " '_distribute_strategy',\n",
       " '_dtype',\n",
       " '_gather_saveables_for_checkpoint',\n",
       " '_get_save_slice_info',\n",
       " '_graph_element',\n",
       " '_graph_key',\n",
       " '_handle',\n",
       " '_handle_deferred_dependencies',\n",
       " '_handle_deleter',\n",
       " '_handle_name',\n",
       " '_in_graph_mode',\n",
       " '_init_from_args',\n",
       " '_init_from_proto',\n",
       " '_initial_value',\n",
       " '_initializer_op',\n",
       " '_is_initialized_op',\n",
       " '_lazy_read',\n",
       " '_list_extra_dependencies_for_serialization',\n",
       " '_list_functions_for_serialization',\n",
       " '_lookup_dependency',\n",
       " '_map_resources',\n",
       " '_maybe_initialize_trackable',\n",
       " '_name_based_attribute_restore',\n",
       " '_name_based_restores',\n",
       " '_no_dependency',\n",
       " '_object_identifier',\n",
       " '_preload_simple_restoration',\n",
       " '_read_variable_op',\n",
       " '_restore_from_checkpoint_position',\n",
       " '_save_slice_info',\n",
       " '_serialize_to_proto',\n",
       " '_set_save_slice_info',\n",
       " '_setattr_tracking',\n",
       " '_shape',\n",
       " '_shape_as_list',\n",
       " '_shape_tuple',\n",
       " '_shared_name',\n",
       " '_single_restoration_from_checkpoint_position',\n",
       " '_strided_slice_assign',\n",
       " '_synchronization',\n",
       " '_tf_api_names',\n",
       " '_tf_api_names_v1',\n",
       " '_track_trackable',\n",
       " '_trainable',\n",
       " '_unconditional_checkpoint_dependencies',\n",
       " '_unconditional_dependency_names',\n",
       " '_unique_id',\n",
       " '_update_uid',\n",
       " '_write_object_proto',\n",
       " 'aggregation',\n",
       " 'assign',\n",
       " 'assign_add',\n",
       " 'assign_sub',\n",
       " 'batch_scatter_update',\n",
       " 'constraint',\n",
       " 'count_up_to',\n",
       " 'create',\n",
       " 'device',\n",
       " 'dtype',\n",
       " 'eval',\n",
       " 'experimental_ref',\n",
       " 'from_proto',\n",
       " 'gather_nd',\n",
       " 'get_shape',\n",
       " 'graph',\n",
       " 'handle',\n",
       " 'initial_value',\n",
       " 'initialized_value',\n",
       " 'initializer',\n",
       " 'is_initialized',\n",
       " 'load',\n",
       " 'name',\n",
       " 'numpy',\n",
       " 'op',\n",
       " 'read_value',\n",
       " 'ref',\n",
       " 'scatter_add',\n",
       " 'scatter_div',\n",
       " 'scatter_max',\n",
       " 'scatter_min',\n",
       " 'scatter_mul',\n",
       " 'scatter_nd_add',\n",
       " 'scatter_nd_max',\n",
       " 'scatter_nd_min',\n",
       " 'scatter_nd_sub',\n",
       " 'scatter_nd_update',\n",
       " 'scatter_sub',\n",
       " 'scatter_update',\n",
       " 'set_shape',\n",
       " 'shape',\n",
       " 'sparse_read',\n",
       " 'synchronization',\n",
       " 'to_proto',\n",
       " 'trainable',\n",
       " 'value']"
      ]
     },
     "execution_count": 186,
     "metadata": {},
     "output_type": "execute_result"
    }
   ],
   "source": [
    "dir(v)"
   ]
  },
  {
   "cell_type": "code",
   "execution_count": 187,
   "id": "877d1c59",
   "metadata": {},
   "outputs": [],
   "source": [
    "v2 = tf.Variable([[1., 2., 3.], [4., 5., 6.]])"
   ]
  },
  {
   "cell_type": "code",
   "execution_count": 188,
   "id": "eeaa83b8",
   "metadata": {},
   "outputs": [
    {
     "data": {
      "text/plain": [
       "<tf.Variable 'Variable:0' shape=(2, 3) dtype=float32, numpy=\n",
       "array([[1., 2., 3.],\n",
       "       [4., 5., 6.]], dtype=float32)>"
      ]
     },
     "execution_count": 188,
     "metadata": {},
     "output_type": "execute_result"
    }
   ],
   "source": [
    "v2"
   ]
  },
  {
   "cell_type": "code",
   "execution_count": 189,
   "id": "738ca5ee",
   "metadata": {},
   "outputs": [
    {
     "data": {
      "text/plain": [
       "<tf.Tensor: shape=(2, 3), dtype=float32, numpy=\n",
       "array([[1., 2., 3.],\n",
       "       [4., 5., 6.]], dtype=float32)>"
      ]
     },
     "execution_count": 189,
     "metadata": {},
     "output_type": "execute_result"
    }
   ],
   "source": [
    "v2.value()"
   ]
  },
  {
   "cell_type": "code",
   "execution_count": 190,
   "id": "0dbda206",
   "metadata": {},
   "outputs": [
    {
     "data": {
      "text/plain": [
       "array([[1., 2., 3.],\n",
       "       [4., 5., 6.]], dtype=float32)"
      ]
     },
     "execution_count": 190,
     "metadata": {},
     "output_type": "execute_result"
    }
   ],
   "source": [
    "v2.numpy()"
   ]
  },
  {
   "cell_type": "code",
   "execution_count": 192,
   "id": "14daf853",
   "metadata": {},
   "outputs": [
    {
     "data": {
      "text/plain": [
       "<tf.Variable 'UnreadVariable' shape=(2, 3) dtype=float32, numpy=\n",
       "array([[ 1.,  4.,  9.],\n",
       "       [16., 25., 36.]], dtype=float32)>"
      ]
     },
     "execution_count": 192,
     "metadata": {},
     "output_type": "execute_result"
    }
   ],
   "source": [
    "v2.assign(v2 * v2)"
   ]
  },
  {
   "cell_type": "code",
   "execution_count": 193,
   "id": "5a3bd934",
   "metadata": {},
   "outputs": [
    {
     "data": {
      "text/plain": [
       "<tf.Variable 'UnreadVariable' shape=(2, 3) dtype=float32, numpy=\n",
       "array([[ 1., 42.,  9.],\n",
       "       [16., 25., 36.]], dtype=float32)>"
      ]
     },
     "execution_count": 193,
     "metadata": {},
     "output_type": "execute_result"
    }
   ],
   "source": [
    "v2[0, 1].assign(42)"
   ]
  },
  {
   "cell_type": "code",
   "execution_count": 194,
   "id": "59e84599",
   "metadata": {},
   "outputs": [
    {
     "data": {
      "text/plain": [
       "<tf.Tensor: shape=(3,), dtype=float32, numpy=array([ 1., 42.,  9.], dtype=float32)>"
      ]
     },
     "execution_count": 194,
     "metadata": {},
     "output_type": "execute_result"
    }
   ],
   "source": [
    "v2[0]"
   ]
  },
  {
   "cell_type": "code",
   "execution_count": 195,
   "id": "6f02fa26",
   "metadata": {},
   "outputs": [
    {
     "data": {
      "text/plain": [
       "<tf.Tensor: shape=(3,), dtype=float32, numpy=array([16., 25., 36.], dtype=float32)>"
      ]
     },
     "execution_count": 195,
     "metadata": {},
     "output_type": "execute_result"
    }
   ],
   "source": [
    "v2[1]"
   ]
  },
  {
   "cell_type": "code",
   "execution_count": 196,
   "id": "6655c62d",
   "metadata": {},
   "outputs": [
    {
     "data": {
      "text/plain": [
       "<tf.Variable 'UnreadVariable' shape=(2, 3) dtype=float32, numpy=\n",
       "array([[ 1., 42.,  9.],\n",
       "       [ 7.,  8.,  9.]], dtype=float32)>"
      ]
     },
     "execution_count": 196,
     "metadata": {},
     "output_type": "execute_result"
    }
   ],
   "source": [
    "v2[1].assign([7., 8., 9.])"
   ]
  },
  {
   "cell_type": "code",
   "execution_count": 197,
   "id": "cb829495",
   "metadata": {},
   "outputs": [
    {
     "name": "stdout",
     "output_type": "stream",
     "text": [
      "'ResourceVariable' object does not support item assignment\n"
     ]
    }
   ],
   "source": [
    "try:\n",
    "    v[1] = [7., 8., 9.]\n",
    "except TypeError as ex:\n",
    "    print(ex)"
   ]
  },
  {
   "cell_type": "markdown",
   "id": "36608a43",
   "metadata": {},
   "source": [
    "####  Ops"
   ]
  },
  {
   "cell_type": "code",
   "execution_count": 199,
   "id": "1d96538d",
   "metadata": {},
   "outputs": [
    {
     "data": {
      "text/plain": [
       "['AggregationMethod',\n",
       " 'Assert',\n",
       " 'CriticalSection',\n",
       " 'DType',\n",
       " 'DeviceSpec',\n",
       " 'GradientTape',\n",
       " 'Graph',\n",
       " 'IndexedSlices',\n",
       " 'IndexedSlicesSpec',\n",
       " 'Module',\n",
       " 'Operation',\n",
       " 'OptionalSpec',\n",
       " 'RaggedTensor',\n",
       " 'RaggedTensorSpec',\n",
       " 'RegisterGradient',\n",
       " 'SparseTensor',\n",
       " 'SparseTensorSpec',\n",
       " 'Tensor',\n",
       " 'TensorArray',\n",
       " 'TensorArraySpec',\n",
       " 'TensorShape',\n",
       " 'TensorSpec',\n",
       " 'TypeSpec',\n",
       " 'UnconnectedGradients',\n",
       " 'Variable',\n",
       " 'VariableAggregation',\n",
       " 'VariableSynchronization',\n",
       " '_API_MODULE',\n",
       " '_LazyLoader',\n",
       " '__all__',\n",
       " '__builtins__',\n",
       " '__cached__',\n",
       " '__compiler_version__',\n",
       " '__cxx11_abi_flag__',\n",
       " '__doc__',\n",
       " '__file__',\n",
       " '__git_version__',\n",
       " '__internal__',\n",
       " '__loader__',\n",
       " '__monolithic_build__',\n",
       " '__name__',\n",
       " '__operators__',\n",
       " '__package__',\n",
       " '__path__',\n",
       " '__spec__',\n",
       " '__version__',\n",
       " '_absolute_import',\n",
       " '_api',\n",
       " '_compat',\n",
       " '_current_file_location',\n",
       " '_current_module',\n",
       " '_distutils',\n",
       " '_division',\n",
       " '_estimator_module',\n",
       " '_fi',\n",
       " '_inspect',\n",
       " '_keras_module',\n",
       " '_keras_package',\n",
       " '_kernel_dir',\n",
       " '_ll',\n",
       " '_logging',\n",
       " '_major_api_version',\n",
       " '_module_dir',\n",
       " '_module_util',\n",
       " '_names_with_underscore',\n",
       " '_os',\n",
       " '_plugin_dir',\n",
       " '_print_function',\n",
       " '_running_from_pip_package',\n",
       " '_s',\n",
       " '_site',\n",
       " '_site_packages_dirs',\n",
       " '_six',\n",
       " '_sys',\n",
       " '_tf2',\n",
       " '_tf_api_dir',\n",
       " '_tf_dir',\n",
       " '_typing',\n",
       " 'abs',\n",
       " 'acos',\n",
       " 'acosh',\n",
       " 'add',\n",
       " 'add_n',\n",
       " 'argmax',\n",
       " 'argmin',\n",
       " 'argsort',\n",
       " 'as_dtype',\n",
       " 'as_string',\n",
       " 'asin',\n",
       " 'asinh',\n",
       " 'assert_equal',\n",
       " 'assert_greater',\n",
       " 'assert_less',\n",
       " 'assert_rank',\n",
       " 'atan',\n",
       " 'atan2',\n",
       " 'atanh',\n",
       " 'audio',\n",
       " 'autodiff',\n",
       " 'autograph',\n",
       " 'batch_to_space',\n",
       " 'bfloat16',\n",
       " 'bitcast',\n",
       " 'bitwise',\n",
       " 'bool',\n",
       " 'boolean_mask',\n",
       " 'broadcast_dynamic_shape',\n",
       " 'broadcast_static_shape',\n",
       " 'broadcast_to',\n",
       " 'case',\n",
       " 'cast',\n",
       " 'clip_by_global_norm',\n",
       " 'clip_by_norm',\n",
       " 'clip_by_value',\n",
       " 'compat',\n",
       " 'complex',\n",
       " 'complex128',\n",
       " 'complex64',\n",
       " 'concat',\n",
       " 'cond',\n",
       " 'config',\n",
       " 'constant',\n",
       " 'constant_initializer',\n",
       " 'control_dependencies',\n",
       " 'convert_to_tensor',\n",
       " 'cos',\n",
       " 'cosh',\n",
       " 'cumsum',\n",
       " 'custom_gradient',\n",
       " 'data',\n",
       " 'debugging',\n",
       " 'device',\n",
       " 'distribute',\n",
       " 'divide',\n",
       " 'double',\n",
       " 'dtypes',\n",
       " 'dynamic_partition',\n",
       " 'dynamic_stitch',\n",
       " 'edit_distance',\n",
       " 'eig',\n",
       " 'eigvals',\n",
       " 'einsum',\n",
       " 'ensure_shape',\n",
       " 'equal',\n",
       " 'errors',\n",
       " 'estimator',\n",
       " 'executing_eagerly',\n",
       " 'exp',\n",
       " 'expand_dims',\n",
       " 'experimental',\n",
       " 'extract_volume_patches',\n",
       " 'eye',\n",
       " 'feature_column',\n",
       " 'fill',\n",
       " 'fingerprint',\n",
       " 'float16',\n",
       " 'float32',\n",
       " 'float64',\n",
       " 'floor',\n",
       " 'foldl',\n",
       " 'foldr',\n",
       " 'function',\n",
       " 'gather',\n",
       " 'gather_nd',\n",
       " 'get_current_name_scope',\n",
       " 'get_logger',\n",
       " 'get_static_value',\n",
       " 'grad_pass_through',\n",
       " 'gradients',\n",
       " 'graph_util',\n",
       " 'greater',\n",
       " 'greater_equal',\n",
       " 'group',\n",
       " 'guarantee_const',\n",
       " 'half',\n",
       " 'hessians',\n",
       " 'histogram_fixed_width',\n",
       " 'histogram_fixed_width_bins',\n",
       " 'identity',\n",
       " 'identity_n',\n",
       " 'image',\n",
       " 'import_graph_def',\n",
       " 'init_scope',\n",
       " 'initializers',\n",
       " 'inside_function',\n",
       " 'int16',\n",
       " 'int32',\n",
       " 'int64',\n",
       " 'int8',\n",
       " 'io',\n",
       " 'is_tensor',\n",
       " 'keras',\n",
       " 'less',\n",
       " 'less_equal',\n",
       " 'linalg',\n",
       " 'linspace',\n",
       " 'lite',\n",
       " 'load_library',\n",
       " 'load_op_library',\n",
       " 'logical_and',\n",
       " 'logical_not',\n",
       " 'logical_or',\n",
       " 'lookup',\n",
       " 'losses',\n",
       " 'make_ndarray',\n",
       " 'make_tensor_proto',\n",
       " 'map_fn',\n",
       " 'math',\n",
       " 'matmul',\n",
       " 'matrix_square_root',\n",
       " 'maximum',\n",
       " 'meshgrid',\n",
       " 'metrics',\n",
       " 'minimum',\n",
       " 'mixed_precision',\n",
       " 'mlir',\n",
       " 'multiply',\n",
       " 'name_scope',\n",
       " 'negative',\n",
       " 'nest',\n",
       " 'newaxis',\n",
       " 'nn',\n",
       " 'no_gradient',\n",
       " 'no_op',\n",
       " 'nondifferentiable_batch_function',\n",
       " 'norm',\n",
       " 'not_equal',\n",
       " 'numpy_function',\n",
       " 'one_hot',\n",
       " 'ones',\n",
       " 'ones_initializer',\n",
       " 'ones_like',\n",
       " 'optimizers',\n",
       " 'pad',\n",
       " 'parallel_stack',\n",
       " 'pow',\n",
       " 'print',\n",
       " 'profiler',\n",
       " 'py_function',\n",
       " 'qint16',\n",
       " 'qint32',\n",
       " 'qint8',\n",
       " 'quantization',\n",
       " 'queue',\n",
       " 'quint16',\n",
       " 'quint8',\n",
       " 'ragged',\n",
       " 'random',\n",
       " 'random_normal_initializer',\n",
       " 'random_uniform_initializer',\n",
       " 'range',\n",
       " 'rank',\n",
       " 'raw_ops',\n",
       " 'realdiv',\n",
       " 'recompute_grad',\n",
       " 'reduce_all',\n",
       " 'reduce_any',\n",
       " 'reduce_logsumexp',\n",
       " 'reduce_max',\n",
       " 'reduce_mean',\n",
       " 'reduce_min',\n",
       " 'reduce_prod',\n",
       " 'reduce_sum',\n",
       " 'register_tensor_conversion_function',\n",
       " 'repeat',\n",
       " 'required_space_to_batch_paddings',\n",
       " 'reshape',\n",
       " 'resource',\n",
       " 'reverse',\n",
       " 'reverse_sequence',\n",
       " 'roll',\n",
       " 'round',\n",
       " 'saturate_cast',\n",
       " 'saved_model',\n",
       " 'scalar_mul',\n",
       " 'scan',\n",
       " 'scatter_nd',\n",
       " 'searchsorted',\n",
       " 'sequence_mask',\n",
       " 'sets',\n",
       " 'shape',\n",
       " 'shape_n',\n",
       " 'sigmoid',\n",
       " 'sign',\n",
       " 'signal',\n",
       " 'sin',\n",
       " 'sinh',\n",
       " 'size',\n",
       " 'slice',\n",
       " 'sort',\n",
       " 'space_to_batch',\n",
       " 'space_to_batch_nd',\n",
       " 'sparse',\n",
       " 'split',\n",
       " 'sqrt',\n",
       " 'square',\n",
       " 'squeeze',\n",
       " 'stack',\n",
       " 'stop_gradient',\n",
       " 'strided_slice',\n",
       " 'string',\n",
       " 'strings',\n",
       " 'subtract',\n",
       " 'summary',\n",
       " 'switch_case',\n",
       " 'sysconfig',\n",
       " 'tan',\n",
       " 'tanh',\n",
       " 'tensor_scatter_nd_add',\n",
       " 'tensor_scatter_nd_max',\n",
       " 'tensor_scatter_nd_min',\n",
       " 'tensor_scatter_nd_sub',\n",
       " 'tensor_scatter_nd_update',\n",
       " 'tensordot',\n",
       " 'test',\n",
       " 'tile',\n",
       " 'timestamp',\n",
       " 'tools',\n",
       " 'tpu',\n",
       " 'train',\n",
       " 'transpose',\n",
       " 'truediv',\n",
       " 'truncatediv',\n",
       " 'truncatemod',\n",
       " 'tuple',\n",
       " 'type_spec_from_value',\n",
       " 'types',\n",
       " 'uint16',\n",
       " 'uint32',\n",
       " 'uint64',\n",
       " 'uint8',\n",
       " 'unique',\n",
       " 'unique_with_counts',\n",
       " 'unravel_index',\n",
       " 'unstack',\n",
       " 'variable_creator_scope',\n",
       " 'variant',\n",
       " 'vectorized_map',\n",
       " 'version',\n",
       " 'where',\n",
       " 'while_loop',\n",
       " 'xla',\n",
       " 'zeros',\n",
       " 'zeros_initializer',\n",
       " 'zeros_like']"
      ]
     },
     "execution_count": 199,
     "metadata": {},
     "output_type": "execute_result"
    }
   ],
   "source": [
    "dir(tf)"
   ]
  },
  {
   "cell_type": "code",
   "execution_count": 200,
   "id": "327b4003",
   "metadata": {},
   "outputs": [
    {
     "name": "stdout",
     "output_type": "stream",
     "text": [
      "Help on function transpose_v2 in module tensorflow.python.ops.array_ops:\n",
      "\n",
      "transpose_v2(a, perm=None, conjugate=False, name='transpose')\n",
      "    Transposes `a`, where `a` is a Tensor.\n",
      "    \n",
      "    Permutes the dimensions according to the value of `perm`.\n",
      "    \n",
      "    The returned tensor's dimension `i` will correspond to the input dimension\n",
      "    `perm[i]`. If `perm` is not given, it is set to (n-1...0), where n is the rank\n",
      "    of the input tensor. Hence by default, this operation performs a regular\n",
      "    matrix transpose on 2-D input Tensors.\n",
      "    \n",
      "    If conjugate is `True` and `a.dtype` is either `complex64` or `complex128`\n",
      "    then the values of `a` are conjugated and transposed.\n",
      "    \n",
      "    @compatibility(numpy)\n",
      "    In `numpy` transposes are memory-efficient constant time operations as they\n",
      "    simply return a new view of the same data with adjusted `strides`.\n",
      "    \n",
      "    TensorFlow does not support strides, so `transpose` returns a new tensor with\n",
      "    the items permuted.\n",
      "    @end_compatibility\n",
      "    \n",
      "    For example:\n",
      "    \n",
      "    >>> x = tf.constant([[1, 2, 3], [4, 5, 6]])\n",
      "    >>> tf.transpose(x)\n",
      "    <tf.Tensor: shape=(3, 2), dtype=int32, numpy=\n",
      "    array([[1, 4],\n",
      "           [2, 5],\n",
      "           [3, 6]], dtype=int32)>\n",
      "    \n",
      "    Equivalently, you could call `tf.transpose(x, perm=[1, 0])`.\n",
      "    \n",
      "    If `x` is complex, setting conjugate=True gives the conjugate transpose:\n",
      "    \n",
      "    >>> x = tf.constant([[1 + 1j, 2 + 2j, 3 + 3j],\n",
      "    ...                  [4 + 4j, 5 + 5j, 6 + 6j]])\n",
      "    >>> tf.transpose(x, conjugate=True)\n",
      "    <tf.Tensor: shape=(3, 2), dtype=complex128, numpy=\n",
      "    array([[1.-1.j, 4.-4.j],\n",
      "           [2.-2.j, 5.-5.j],\n",
      "           [3.-3.j, 6.-6.j]])>\n",
      "    \n",
      "    'perm' is more useful for n-dimensional tensors where n > 2:\n",
      "    \n",
      "    >>> x = tf.constant([[[ 1,  2,  3],\n",
      "    ...                   [ 4,  5,  6]],\n",
      "    ...                  [[ 7,  8,  9],\n",
      "    ...                   [10, 11, 12]]])\n",
      "    \n",
      "    As above, simply calling `tf.transpose` will default to `perm=[2,1,0]`.\n",
      "    \n",
      "    To take the transpose of the matrices in dimension-0 (such as when you are\n",
      "    transposing matrices where 0 is the batch dimension), you would set\n",
      "    `perm=[0,2,1]`.\n",
      "    \n",
      "    >>> tf.transpose(x, perm=[0, 2, 1])\n",
      "    <tf.Tensor: shape=(2, 3, 2), dtype=int32, numpy=\n",
      "    array([[[ 1,  4],\n",
      "            [ 2,  5],\n",
      "            [ 3,  6]],\n",
      "            [[ 7, 10],\n",
      "            [ 8, 11],\n",
      "            [ 9, 12]]], dtype=int32)>\n",
      "    \n",
      "    Note: This has a shorthand `linalg.matrix_transpose`):\n",
      "    \n",
      "    Args:\n",
      "      a: A `Tensor`.\n",
      "      perm: A permutation of the dimensions of `a`.  This should be a vector.\n",
      "      conjugate: Optional bool. Setting it to `True` is mathematically equivalent\n",
      "        to tf.math.conj(tf.transpose(input)).\n",
      "      name: A name for the operation (optional).\n",
      "    \n",
      "    Returns:\n",
      "      A transposed `Tensor`.\n",
      "\n"
     ]
    }
   ],
   "source": [
    "help(tf.transpose)"
   ]
  },
  {
   "cell_type": "markdown",
   "id": "1257666b",
   "metadata": {},
   "source": [
    "#### To and From Numpy"
   ]
  },
  {
   "cell_type": "code",
   "execution_count": 208,
   "id": "da08fdcd",
   "metadata": {},
   "outputs": [
    {
     "data": {
      "text/plain": [
       "array([[1., 2., 3.],\n",
       "       [4., 5., 6.]])"
      ]
     },
     "execution_count": 208,
     "metadata": {},
     "output_type": "execute_result"
    }
   ],
   "source": [
    "a = np.array([[1., 2., 3.], [4., 5., 6.]])\n",
    "a"
   ]
  },
  {
   "cell_type": "code",
   "execution_count": 210,
   "id": "13d797e0",
   "metadata": {},
   "outputs": [
    {
     "data": {
      "text/plain": [
       "<tf.Tensor: shape=(2, 3), dtype=float64, numpy=\n",
       "array([[1., 2., 3.],\n",
       "       [4., 5., 6.]])>"
      ]
     },
     "execution_count": 210,
     "metadata": {},
     "output_type": "execute_result"
    }
   ],
   "source": [
    "b = tf.constant(a)\n",
    "b"
   ]
  },
  {
   "cell_type": "code",
   "execution_count": 211,
   "id": "f6867656",
   "metadata": {},
   "outputs": [
    {
     "data": {
      "text/plain": [
       "array([[1., 2., 3.],\n",
       "       [4., 5., 6.]])"
      ]
     },
     "execution_count": 211,
     "metadata": {},
     "output_type": "execute_result"
    }
   ],
   "source": [
    "b.numpy()"
   ]
  },
  {
   "cell_type": "markdown",
   "id": "a49ff7e3",
   "metadata": {},
   "source": [
    "#### Conflicting type"
   ]
  },
  {
   "cell_type": "code",
   "execution_count": 212,
   "id": "56a14cbf",
   "metadata": {},
   "outputs": [
    {
     "name": "stdout",
     "output_type": "stream",
     "text": [
      "cannot compute AddV2 as input #1(zero-based) was expected to be a int32 tensor but is a float tensor [Op:AddV2]\n"
     ]
    }
   ],
   "source": [
    "try:\n",
    "    tf.constant(1) + tf.constant(1.0)\n",
    "except tf.errors.InvalidArgumentError as ex:\n",
    "    print(ex)"
   ]
  },
  {
   "cell_type": "code",
   "execution_count": 213,
   "id": "07676a82",
   "metadata": {},
   "outputs": [
    {
     "name": "stdout",
     "output_type": "stream",
     "text": [
      "cannot compute AddV2 as input #1(zero-based) was expected to be a double tensor but is a float tensor [Op:AddV2]\n"
     ]
    }
   ],
   "source": [
    "try:\n",
    "    tf.constant(1.0, dtype=tf.float64) + tf.constant(1.0)\n",
    "except tf.errors.InvalidArgumentError as ex:\n",
    "    print(ex)"
   ]
  },
  {
   "cell_type": "code",
   "execution_count": 214,
   "id": "83036d86",
   "metadata": {},
   "outputs": [
    {
     "data": {
      "text/plain": [
       "<tf.Tensor: shape=(), dtype=float32, numpy=2.0>"
      ]
     },
     "execution_count": 214,
     "metadata": {},
     "output_type": "execute_result"
    }
   ],
   "source": [
    "t = tf.constant(1.0, dtype=tf.float64)\n",
    "tf.cast(t, tf.float32) + tf.constant(1.0)"
   ]
  },
  {
   "cell_type": "markdown",
   "id": "3faff2f1",
   "metadata": {},
   "source": [
    "#### Strings"
   ]
  },
  {
   "cell_type": "code",
   "execution_count": 215,
   "id": "923ade5d",
   "metadata": {},
   "outputs": [
    {
     "data": {
      "text/plain": [
       "<tf.Tensor: shape=(), dtype=string, numpy=b'caf\\xc3\\xa9'>"
      ]
     },
     "execution_count": 215,
     "metadata": {},
     "output_type": "execute_result"
    }
   ],
   "source": [
    "t = tf.constant(\"café\")\n",
    "t"
   ]
  },
  {
   "cell_type": "code",
   "execution_count": 216,
   "id": "716ff39c",
   "metadata": {},
   "outputs": [
    {
     "data": {
      "text/plain": [
       "<tf.Tensor: shape=(), dtype=int32, numpy=5>"
      ]
     },
     "execution_count": 216,
     "metadata": {},
     "output_type": "execute_result"
    }
   ],
   "source": [
    "tf.strings.length(t)"
   ]
  },
  {
   "cell_type": "code",
   "execution_count": 217,
   "id": "dd0d6212",
   "metadata": {},
   "outputs": [
    {
     "data": {
      "text/plain": [
       "<tf.Tensor: shape=(), dtype=int32, numpy=4>"
      ]
     },
     "execution_count": 217,
     "metadata": {},
     "output_type": "execute_result"
    }
   ],
   "source": [
    "tf.strings.length(t, unit=\"UTF8_CHAR\")"
   ]
  },
  {
   "cell_type": "code",
   "execution_count": 218,
   "id": "78f01bca",
   "metadata": {},
   "outputs": [
    {
     "data": {
      "text/plain": [
       "<tf.Tensor: shape=(4,), dtype=int32, numpy=array([ 99,  97, 102, 233], dtype=int32)>"
      ]
     },
     "execution_count": 218,
     "metadata": {},
     "output_type": "execute_result"
    }
   ],
   "source": [
    "tf.strings.unicode_decode(t, \"UTF8\")"
   ]
  },
  {
   "cell_type": "code",
   "execution_count": 219,
   "id": "fc2966ef",
   "metadata": {},
   "outputs": [],
   "source": [
    "t = tf.constant([\"Café\", \"Coffee\", \"caffè\", \"咖啡\"])"
   ]
  },
  {
   "cell_type": "code",
   "execution_count": 220,
   "id": "979d029c",
   "metadata": {},
   "outputs": [
    {
     "data": {
      "text/plain": [
       "<tf.Tensor: shape=(4,), dtype=string, numpy=\n",
       "array([b'Caf\\xc3\\xa9', b'Coffee', b'caff\\xc3\\xa8',\n",
       "       b'\\xe5\\x92\\x96\\xe5\\x95\\xa1'], dtype=object)>"
      ]
     },
     "execution_count": 220,
     "metadata": {},
     "output_type": "execute_result"
    }
   ],
   "source": [
    "t"
   ]
  },
  {
   "cell_type": "code",
   "execution_count": 221,
   "id": "1a3bdfb4",
   "metadata": {},
   "outputs": [
    {
     "data": {
      "text/plain": [
       "<tf.Tensor: shape=(4,), dtype=string, numpy=\n",
       "array([b'Caf\\xc3\\xa9', b'Coffee', b'caff\\xc3\\xa8',\n",
       "       b'\\xe5\\x92\\x96\\xe5\\x95\\xa1'], dtype=object)>"
      ]
     },
     "execution_count": 221,
     "metadata": {},
     "output_type": "execute_result"
    }
   ],
   "source": [
    "tf.strings.length(t, unit=\"UTF8_CHAR\")\n",
    "t"
   ]
  },
  {
   "cell_type": "code",
   "execution_count": 222,
   "id": "6310e2ac",
   "metadata": {},
   "outputs": [
    {
     "data": {
      "text/plain": [
       "<tf.RaggedTensor [[67, 97, 102, 233], [67, 111, 102, 102, 101, 101], [99, 97, 102, 102, 232], [21654, 21857]]>"
      ]
     },
     "execution_count": 222,
     "metadata": {},
     "output_type": "execute_result"
    }
   ],
   "source": [
    "r = tf.strings.unicode_decode(t, \"UTF8\")\n",
    "r"
   ]
  },
  {
   "cell_type": "markdown",
   "id": "bbcce2d0",
   "metadata": {},
   "source": [
    "#### Ragged tensors"
   ]
  },
  {
   "cell_type": "code",
   "execution_count": 223,
   "id": "00cfdb17",
   "metadata": {},
   "outputs": [
    {
     "data": {
      "text/plain": [
       "<tf.RaggedTensor [[11, 12], [21, 22, 23], [], [41]]>"
      ]
     },
     "execution_count": 223,
     "metadata": {},
     "output_type": "execute_result"
    }
   ],
   "source": [
    "r = tf.ragged.constant([[11, 12], [21, 22, 23], [], [41]])\n",
    "r"
   ]
  },
  {
   "cell_type": "code",
   "execution_count": 224,
   "id": "27c732f4",
   "metadata": {},
   "outputs": [
    {
     "name": "stdout",
     "output_type": "stream",
     "text": [
      "<tf.RaggedTensor [[11, 12], [21, 22, 23], [], [41]]>\n"
     ]
    }
   ],
   "source": [
    "print(r)"
   ]
  },
  {
   "cell_type": "code",
   "execution_count": 225,
   "id": "ec2de5bb",
   "metadata": {},
   "outputs": [
    {
     "data": {
      "text/plain": [
       "<tf.Tensor: shape=(3,), dtype=int32, numpy=array([21, 22, 23], dtype=int32)>"
      ]
     },
     "execution_count": 225,
     "metadata": {},
     "output_type": "execute_result"
    }
   ],
   "source": [
    "r[1]"
   ]
  },
  {
   "cell_type": "code",
   "execution_count": 226,
   "id": "5fe0bcbb",
   "metadata": {},
   "outputs": [
    {
     "data": {
      "text/plain": [
       "<tf.RaggedTensor [[21, 22, 23]]>"
      ]
     },
     "execution_count": 226,
     "metadata": {},
     "output_type": "execute_result"
    }
   ],
   "source": [
    "r[1:2]"
   ]
  },
  {
   "cell_type": "code",
   "execution_count": 227,
   "id": "4e29d22d",
   "metadata": {},
   "outputs": [],
   "source": [
    "r2 = tf.ragged.constant([[51, 52], [], [71]])"
   ]
  },
  {
   "cell_type": "code",
   "execution_count": 228,
   "id": "95c03808",
   "metadata": {},
   "outputs": [
    {
     "data": {
      "text/plain": [
       "<tf.RaggedTensor [[51, 52], [], [71]]>"
      ]
     },
     "execution_count": 228,
     "metadata": {},
     "output_type": "execute_result"
    }
   ],
   "source": [
    "r2"
   ]
  },
  {
   "cell_type": "code",
   "execution_count": 231,
   "id": "627b64bb",
   "metadata": {},
   "outputs": [
    {
     "data": {
      "text/plain": [
       "<tf.RaggedTensor [[11, 12], [21, 22, 23], [], [41], [51, 52], [], [71]]>"
      ]
     },
     "execution_count": 231,
     "metadata": {},
     "output_type": "execute_result"
    }
   ],
   "source": [
    "tf.concat([r, r2], axis=0)"
   ]
  },
  {
   "cell_type": "code",
   "execution_count": 232,
   "id": "76d17e92",
   "metadata": {},
   "outputs": [
    {
     "name": "stdout",
     "output_type": "stream",
     "text": [
      "<tf.RaggedTensor [[11, 12, 13, 14, 15], [21, 22, 23, 24], [], [41, 42, 43]]>\n"
     ]
    }
   ],
   "source": [
    "r3 = tf.ragged.constant([[13, 14, 15], [24], [], [42, 43]])\n",
    "print(tf.concat([r, r3], axis=1))"
   ]
  },
  {
   "cell_type": "markdown",
   "id": "43d9064c",
   "metadata": {},
   "source": [
    "#### Sparse Tesors"
   ]
  },
  {
   "cell_type": "code",
   "execution_count": 233,
   "id": "9ca4b031",
   "metadata": {},
   "outputs": [
    {
     "name": "stdout",
     "output_type": "stream",
     "text": [
      "SparseTensor(indices=tf.Tensor(\n",
      "[[0 1]\n",
      " [1 0]\n",
      " [2 3]], shape=(3, 2), dtype=int64), values=tf.Tensor([1. 2. 3.], shape=(3,), dtype=float32), dense_shape=tf.Tensor([3 4], shape=(2,), dtype=int64))\n"
     ]
    }
   ],
   "source": [
    "s = tf.SparseTensor(indices=[[0, 1], [1, 0], [2, 3]],\n",
    "                    values=[1., 2., 3.],\n",
    "                    dense_shape=[3, 4])\n",
    "print(s)"
   ]
  },
  {
   "cell_type": "code",
   "execution_count": 234,
   "id": "87db502f",
   "metadata": {},
   "outputs": [
    {
     "data": {
      "text/plain": [
       "<tf.Tensor: shape=(3, 4), dtype=float32, numpy=\n",
       "array([[0., 1., 0., 0.],\n",
       "       [2., 0., 0., 0.],\n",
       "       [0., 0., 0., 3.]], dtype=float32)>"
      ]
     },
     "execution_count": 234,
     "metadata": {},
     "output_type": "execute_result"
    }
   ],
   "source": [
    "tf.sparse.to_dense(s)"
   ]
  },
  {
   "cell_type": "code",
   "execution_count": 235,
   "id": "9a97af9c",
   "metadata": {},
   "outputs": [],
   "source": [
    "s2 = s * 2.0"
   ]
  },
  {
   "cell_type": "code",
   "execution_count": 236,
   "id": "897a1276",
   "metadata": {},
   "outputs": [
    {
     "name": "stdout",
     "output_type": "stream",
     "text": [
      "unsupported operand type(s) for +: 'SparseTensor' and 'float'\n"
     ]
    }
   ],
   "source": [
    "try:\n",
    "    s3 = s + 1.\n",
    "except TypeError as ex:\n",
    "    print(ex)"
   ]
  },
  {
   "cell_type": "code",
   "execution_count": 237,
   "id": "b967f640",
   "metadata": {},
   "outputs": [
    {
     "data": {
      "text/plain": [
       "<tf.Tensor: shape=(3, 2), dtype=float32, numpy=\n",
       "array([[ 30.,  40.],\n",
       "       [ 20.,  40.],\n",
       "       [210., 240.]], dtype=float32)>"
      ]
     },
     "execution_count": 237,
     "metadata": {},
     "output_type": "execute_result"
    }
   ],
   "source": [
    "s4 = tf.constant([[10., 20.], [30., 40.], [50., 60.], [70., 80.]])\n",
    "tf.sparse.sparse_dense_matmul(s, s4)"
   ]
  },
  {
   "cell_type": "code",
   "execution_count": 238,
   "id": "e2bfd311",
   "metadata": {},
   "outputs": [
    {
     "name": "stdout",
     "output_type": "stream",
     "text": [
      "SparseTensor(indices=tf.Tensor(\n",
      "[[0 2]\n",
      " [0 1]], shape=(2, 2), dtype=int64), values=tf.Tensor([1. 2.], shape=(2,), dtype=float32), dense_shape=tf.Tensor([3 4], shape=(2,), dtype=int64))\n"
     ]
    }
   ],
   "source": [
    "s5 = tf.SparseTensor(indices=[[0, 2], [0, 1]],\n",
    "                     values=[1., 2.],\n",
    "                     dense_shape=[3, 4])\n",
    "print(s5)"
   ]
  },
  {
   "cell_type": "code",
   "execution_count": 239,
   "id": "03d66206",
   "metadata": {},
   "outputs": [
    {
     "name": "stdout",
     "output_type": "stream",
     "text": [
      "indices[1] = [0,1] is out of order. Many sparse ops require sorted indices.\n",
      "    Use `tf.sparse.reorder` to create a correctly ordered copy.\n",
      "\n",
      " [Op:SparseToDense]\n"
     ]
    },
    {
     "name": "stderr",
     "output_type": "stream",
     "text": [
      "2022-01-31 14:22:27.643821: W tensorflow/core/framework/op_kernel.cc:1745] OP_REQUIRES failed at sparse_to_dense_op.cc:162 : INVALID_ARGUMENT: indices[1] = [0,1] is out of order. Many sparse ops require sorted indices.\n",
      "    Use `tf.sparse.reorder` to create a correctly ordered copy.\n",
      "\n",
      "\n"
     ]
    }
   ],
   "source": [
    "try:\n",
    "    tf.sparse.to_dense(s5)\n",
    "except tf.errors.InvalidArgumentError as ex:\n",
    "    print(ex)"
   ]
  },
  {
   "cell_type": "code",
   "execution_count": 240,
   "id": "a46e9a91",
   "metadata": {},
   "outputs": [
    {
     "data": {
      "text/plain": [
       "<tf.Tensor: shape=(3, 4), dtype=float32, numpy=\n",
       "array([[0., 2., 1., 0.],\n",
       "       [0., 0., 0., 0.],\n",
       "       [0., 0., 0., 0.]], dtype=float32)>"
      ]
     },
     "execution_count": 240,
     "metadata": {},
     "output_type": "execute_result"
    }
   ],
   "source": [
    "s6 = tf.sparse.reorder(s5)\n",
    "tf.sparse.to_dense(s6)"
   ]
  },
  {
   "cell_type": "markdown",
   "id": "a7d4ba15",
   "metadata": {},
   "source": [
    "#### Device"
   ]
  },
  {
   "cell_type": "code",
   "execution_count": 241,
   "id": "86208a91",
   "metadata": {},
   "outputs": [],
   "source": [
    "with tf.device(\"/cpu:0\"):\n",
    "    t = tf.constant([[1., 2., 3.], [4., 5., 6.]])"
   ]
  },
  {
   "cell_type": "code",
   "execution_count": 242,
   "id": "7d14534a",
   "metadata": {},
   "outputs": [
    {
     "data": {
      "text/plain": [
       "'/job:localhost/replica:0/task:0/device:CPU:0'"
      ]
     },
     "execution_count": 242,
     "metadata": {},
     "output_type": "execute_result"
    }
   ],
   "source": [
    "t.device"
   ]
  },
  {
   "cell_type": "code",
   "execution_count": 243,
   "id": "09f59854",
   "metadata": {},
   "outputs": [],
   "source": [
    "if tf.config.list_physical_devices('GPU'):\n",
    "    with tf.device(\"/gpu:0\"):\n",
    "        t2 = tf.constant([[1., 2., 3.], [4., 5., 6.]])\n",
    "    print(t2.device)"
   ]
  },
  {
   "cell_type": "code",
   "execution_count": null,
   "id": "4054601d",
   "metadata": {},
   "outputs": [],
   "source": []
  }
 ],
 "metadata": {
  "kernelspec": {
   "display_name": "Python 3 (ipykernel)",
   "language": "python",
   "name": "python3"
  },
  "language_info": {
   "codemirror_mode": {
    "name": "ipython",
    "version": 3
   },
   "file_extension": ".py",
   "mimetype": "text/x-python",
   "name": "python",
   "nbconvert_exporter": "python",
   "pygments_lexer": "ipython3",
   "version": "3.8.12"
  }
 },
 "nbformat": 4,
 "nbformat_minor": 5
}
